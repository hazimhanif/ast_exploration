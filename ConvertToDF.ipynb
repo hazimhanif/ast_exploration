{
 "cells": [
  {
   "cell_type": "code",
   "execution_count": 12,
   "metadata": {},
   "outputs": [],
   "source": [
    "import pandas as pd\n",
    "import numpy as np"
   ]
  },
  {
   "cell_type": "code",
   "execution_count": 101,
   "metadata": {},
   "outputs": [],
   "source": [
    "output = pd.read_csv('myCS/output/test2.c.txt',sep='\\t',names=['type','line','level','code'])\n",
    "\n",
    "linesList = output.line.value_counts().index.sort_values()[1:]"
   ]
  },
  {
   "cell_type": "markdown",
   "metadata": {},
   "source": [
    "### Prepare list"
   ]
  },
  {
   "cell_type": "code",
   "execution_count": 122,
   "metadata": {},
   "outputs": [],
   "source": [
    "ast = [['TEMPORARY']]\n",
    "flag_open = False\n",
    "flag_close = False\n",
    "for linenum in linesList:\n",
    "    statement = []\n",
    "    line = output[output.line==linenum]\n",
    "    leaf = line[line.type=='LEAF_NODE'].code.values\n",
    "    \n",
    "    chk_var_dec = (line.type=='VAR_DECL').tolist()\n",
    "    if True in chk_var_dec:\n",
    "        vardec = np.where(chk_var_dec)[0]\n",
    "        for item in vardec:\n",
    "            statement = pd.Series(line.code.tolist()[item].split(' '))\n",
    "            statement = statement[statement!=';']\n",
    "            statement = statement[statement!='=']\n",
    "            if True in (line.type=='POINTER').tolist():\n",
    "                statement = statement.tolist()\n",
    "                statement.insert(0,'Pointer')\n",
    "                statement.insert(0,'Decl')\n",
    "            else:\n",
    "                statement = statement.tolist()\n",
    "                statement.insert(0,'Decl')\n",
    "            ast.append(pd.Series(statement).unique().tolist())\n",
    "        continue\n",
    "\n",
    "    if linenum == linesList[0]:\n",
    "        statement.append('FuncDef')\n",
    "        statement.append('Decl')\n",
    "        statement.append('FuncDecl')\n",
    "        \n",
    "    if '{' in leaf:\n",
    "        flag_open = True\n",
    "\n",
    "    leaf = leaf[leaf!='{']\n",
    "    leaf = leaf[leaf!=';']\n",
    "    leaf = leaf[leaf!='(']\n",
    "    leaf = leaf[leaf!=')']\n",
    "    leaf = leaf[leaf!=',']\n",
    "\n",
    "    for item in leaf:\n",
    "        item = 'Return' if item == 'return' else item\n",
    "        if item != item:\n",
    "            continue\n",
    "        else:\n",
    "            item\n",
    "        statement.append(item)\n",
    "    \n",
    "    \n",
    "    if len(statement)!=0:\n",
    "        \n",
    "        if True in (line.type=='POINTER').tolist():\n",
    "            statement.insert(0,'Pointer')\n",
    "        \n",
    "        if True in (line.type=='SELECTION').tolist():\n",
    "            statement.insert(0,'Condition')\n",
    "            statement.insert(0,'Selection')\n",
    "            \n",
    "        if True in (line.type=='ITERATION').tolist():\n",
    "            statement.insert(0,'ForInit')\n",
    "            statement.insert(0,'Condition')\n",
    "            statement.insert(0,'ForExpr')            \n",
    "            statement.insert(0,'Iteration')\n",
    "            \n",
    "        if True in (line.type=='FUNCTION_CALL').tolist():\n",
    "            statement.insert(0,'ExprList')\n",
    "            statement.insert(0,'FuncCall')\n",
    "            if statement == ast[-1]:\n",
    "                continue\n",
    "            \n",
    "            ast.append(statement)\n",
    "\n",
    "        else:\n",
    "            if statement == ast[-1]:\n",
    "                continue\n",
    "            ast.append(statement)\n",
    "    \n",
    "    if flag_open == True:\n",
    "        ast.append(['Compound'])\n",
    "        flag_open = False\n",
    "    \n",
    "    if '}' in leaf:\n",
    "        del(ast[-1])\n",
    "        ast.append(['End'])\n",
    "\n",
    "del(ast[0])"
   ]
  },
  {
   "cell_type": "code",
   "execution_count": 126,
   "metadata": {},
   "outputs": [],
   "source": [
    "seq = []\n",
    "for statement in ast:\n",
    "    for item in statement:\n",
    "        seq.append(item)\n",
    "        \n",
    "seq = [seq,seq]"
   ]
  },
  {
   "cell_type": "code",
   "execution_count": 128,
   "metadata": {},
   "outputs": [],
   "source": [
    "from gensim.models.word2vec import Word2Vec\n",
    "w2v = Word2Vec(seq, size=128, workers=16, sg=1, min_count=3)"
   ]
  },
  {
   "cell_type": "code",
   "execution_count": 132,
   "metadata": {},
   "outputs": [
    {
     "name": "stderr",
     "output_type": "stream",
     "text": [
      "/data/anaconda3/envs/tensorflow/lib/python3.6/site-packages/ipykernel_launcher.py:1: DeprecationWarning: Call to deprecated `syn0` (Attribute will be removed in 4.0.0, use self.vectors instead).\n",
      "  \"\"\"Entry point for launching an IPython kernel.\n"
     ]
    },
    {
     "data": {
      "text/plain": [
       "array([[ 3.3567022e-03, -1.0177628e-03,  2.4025124e-03, ...,\n",
       "         4.0771444e-03,  1.6953956e-03,  7.6778175e-04],\n",
       "       [-1.4971640e-03, -3.5054961e-03, -2.4734270e-03, ...,\n",
       "        -7.7362329e-04,  1.5375036e-03, -1.3684791e-03],\n",
       "       [ 2.4536913e-03, -5.8110006e-04,  2.6108816e-03, ...,\n",
       "         5.0149712e-04,  3.5400123e-03,  4.1593453e-03],\n",
       "       ...,\n",
       "       [-3.1223088e-03,  2.1019471e-03, -5.2197336e-04, ...,\n",
       "         2.9906996e-03, -7.5932074e-04, -7.1055940e-05],\n",
       "       [-2.9107344e-03, -4.6533236e-04, -7.9265743e-04, ...,\n",
       "         3.2657792e-03, -3.2514932e-03, -1.4636759e-03],\n",
       "       [-5.6690653e-04,  3.0485558e-04, -3.4700339e-03, ...,\n",
       "         2.4556681e-03,  1.3290419e-03,  2.0696309e-03]], dtype=float32)"
      ]
     },
     "execution_count": 132,
     "metadata": {},
     "output_type": "execute_result"
    }
   ],
   "source": [
    "w2v.wv.syn0"
   ]
  },
  {
   "cell_type": "code",
   "execution_count": 133,
   "metadata": {},
   "outputs": [],
   "source": [
    "blk = pd.read_pickle('../experiment-3-astnn/astnn/data/train/blocks.pkl')"
   ]
  },
  {
   "cell_type": "code",
   "execution_count": 134,
   "metadata": {},
   "outputs": [
    {
     "data": {
      "text/html": [
       "<div>\n",
       "<style scoped>\n",
       "    .dataframe tbody tr th:only-of-type {\n",
       "        vertical-align: middle;\n",
       "    }\n",
       "\n",
       "    .dataframe tbody tr th {\n",
       "        vertical-align: top;\n",
       "    }\n",
       "\n",
       "    .dataframe thead th {\n",
       "        text-align: right;\n",
       "    }\n",
       "</style>\n",
       "<table border=\"1\" class=\"dataframe\">\n",
       "  <thead>\n",
       "    <tr style=\"text-align: right;\">\n",
       "      <th></th>\n",
       "      <th>id</th>\n",
       "      <th>code</th>\n",
       "      <th>label</th>\n",
       "    </tr>\n",
       "  </thead>\n",
       "  <tbody>\n",
       "    <tr>\n",
       "      <th>46887</th>\n",
       "      <td>46887</td>\n",
       "      <td>[[32, [2, [30, [40, [81]]]]], [6], [2, [9, [4]...</td>\n",
       "      <td>93</td>\n",
       "    </tr>\n",
       "    <tr>\n",
       "      <th>4970</th>\n",
       "      <td>4970</td>\n",
       "      <td>[[32, [2, [30, [40, [4]]]]], [6], [2, [13, [4]...</td>\n",
       "      <td>42</td>\n",
       "    </tr>\n",
       "    <tr>\n",
       "      <th>50521</th>\n",
       "      <td>50521</td>\n",
       "      <td>[[32, [2, [30, [1296, [4]]]]], [6], [11, [36],...</td>\n",
       "      <td>77</td>\n",
       "    </tr>\n",
       "    <tr>\n",
       "      <th>38406</th>\n",
       "      <td>38406</td>\n",
       "      <td>[[32, [2, [30, [40, [4]]]]], [6], [2, [23, [23...</td>\n",
       "      <td>63</td>\n",
       "    </tr>\n",
       "    <tr>\n",
       "      <th>44230</th>\n",
       "      <td>44230</td>\n",
       "      <td>[[32, [2, [30, [40, [4]]]]], [6], [2, [411, [4...</td>\n",
       "      <td>80</td>\n",
       "    </tr>\n",
       "    <tr>\n",
       "      <th>...</th>\n",
       "      <td>...</td>\n",
       "      <td>...</td>\n",
       "      <td>...</td>\n",
       "    </tr>\n",
       "    <tr>\n",
       "      <th>14434</th>\n",
       "      <td>14434</td>\n",
       "      <td>[[32, [2, [30, [75, [2, [13, [4]]]], [74, [4]]...</td>\n",
       "      <td>61</td>\n",
       "    </tr>\n",
       "    <tr>\n",
       "      <th>21424</th>\n",
       "      <td>21424</td>\n",
       "      <td>[[32, [2, [30, [40, [4]]]]], [6], [2, [23, [9,...</td>\n",
       "      <td>69</td>\n",
       "    </tr>\n",
       "    <tr>\n",
       "      <th>2438</th>\n",
       "      <td>2438</td>\n",
       "      <td>[[32, [2, [30, [40, [4]]]]], [6], [2, [23, [85...</td>\n",
       "      <td>96</td>\n",
       "    </tr>\n",
       "    <tr>\n",
       "      <th>1449</th>\n",
       "      <td>1449</td>\n",
       "      <td>[[32, [2, [30, [40, [4]]]]], [6], [2, [23, [9,...</td>\n",
       "      <td>104</td>\n",
       "    </tr>\n",
       "    <tr>\n",
       "      <th>18356</th>\n",
       "      <td>18356</td>\n",
       "      <td>[[32, [2, [30, [811, [4]]]]], [6], [2, [8, [4]...</td>\n",
       "      <td>20</td>\n",
       "    </tr>\n",
       "  </tbody>\n",
       "</table>\n",
       "<p>31200 rows × 3 columns</p>\n",
       "</div>"
      ],
      "text/plain": [
       "          id                                               code  label\n",
       "46887  46887  [[32, [2, [30, [40, [81]]]]], [6], [2, [9, [4]...     93\n",
       "4970    4970  [[32, [2, [30, [40, [4]]]]], [6], [2, [13, [4]...     42\n",
       "50521  50521  [[32, [2, [30, [1296, [4]]]]], [6], [11, [36],...     77\n",
       "38406  38406  [[32, [2, [30, [40, [4]]]]], [6], [2, [23, [23...     63\n",
       "44230  44230  [[32, [2, [30, [40, [4]]]]], [6], [2, [411, [4...     80\n",
       "...      ...                                                ...    ...\n",
       "14434  14434  [[32, [2, [30, [75, [2, [13, [4]]]], [74, [4]]...     61\n",
       "21424  21424  [[32, [2, [30, [40, [4]]]]], [6], [2, [23, [9,...     69\n",
       "2438    2438  [[32, [2, [30, [40, [4]]]]], [6], [2, [23, [85...     96\n",
       "1449    1449  [[32, [2, [30, [40, [4]]]]], [6], [2, [23, [9,...    104\n",
       "18356  18356  [[32, [2, [30, [811, [4]]]]], [6], [2, [8, [4]...     20\n",
       "\n",
       "[31200 rows x 3 columns]"
      ]
     },
     "execution_count": 134,
     "metadata": {},
     "output_type": "execute_result"
    }
   ],
   "source": [
    "blk"
   ]
  },
  {
   "cell_type": "code",
   "execution_count": null,
   "metadata": {},
   "outputs": [],
   "source": []
  }
 ],
 "metadata": {
  "kernelspec": {
   "display_name": "Python 3",
   "language": "python",
   "name": "python3"
  },
  "language_info": {
   "codemirror_mode": {
    "name": "ipython",
    "version": 3
   },
   "file_extension": ".py",
   "mimetype": "text/x-python",
   "name": "python",
   "nbconvert_exporter": "python",
   "pygments_lexer": "ipython3",
   "version": "3.6.9"
  }
 },
 "nbformat": 4,
 "nbformat_minor": 4
}
