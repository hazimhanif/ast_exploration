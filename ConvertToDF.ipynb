{
 "cells": [
  {
   "cell_type": "code",
   "execution_count": 1,
   "metadata": {},
   "outputs": [],
   "source": [
    "import pandas as pd\n",
    "import numpy as np"
   ]
  },
  {
   "cell_type": "code",
   "execution_count": 2,
   "metadata": {},
   "outputs": [],
   "source": [
    "output = pd.read_csv('myCS/output/test2.c.txt',sep='\\t',names=['type','line','level','code'])\n",
    "\n",
    "linesList = output.line.value_counts().index.sort_values()[1:]"
   ]
  },
  {
   "cell_type": "markdown",
   "metadata": {},
   "source": [
    "### Prepare list"
   ]
  },
  {
   "cell_type": "code",
   "execution_count": 3,
   "metadata": {},
   "outputs": [],
   "source": [
    "ast = []\n",
    "flag_open = False\n",
    "flag_close = False\n",
    "for linenum in linesList:\n",
    "    statement = []\n",
    "    line = output[output.line==linenum]\n",
    "    leaf = line[line.type=='LEAF_NODE'].code.values\n",
    "\n",
    "    if linenum == linesList[0]:\n",
    "        statement.append('FuncDef')\n",
    "        statement.append('Decl')\n",
    "        statement.append('FuncDecl')\n",
    "        \n",
    "    if '{' in leaf:\n",
    "        flag_open = True\n",
    "\n",
    "    filtered_symbol = filter(lambda item: '{' not in item , leaf)\n",
    "    filtered_symbol = filter(lambda item: '}' not in item , filtered_symbol)\n",
    "    filtered_symbol = filter(lambda item: ';' not in item , filtered_symbol)\n",
    "    filtered_symbol = filter(lambda item: '(' not in item , filtered_symbol)\n",
    "    filtered_symbol = filter(lambda item: ')' not in item , filtered_symbol)\n",
    "    filtered_symbol = filter(lambda item: ',' not in item , filtered_symbol)\n",
    "    \n",
    "    for item in filtered_symbol:\n",
    "       statement.append(item)\n",
    "    \n",
    "    \n",
    "    if len(statement)!=0:\n",
    "        vardec = np.where(pd.Series(statement)=='=')[0]\n",
    "        if len(vardec)>1:\n",
    "            vardec_list = []\n",
    "            for i in range(len(vardec)):\n",
    "                vardec_list.append(statement[(0 if i==0 else vardec[i-1]+2):vardec[i]+2])\n",
    "                \n",
    "            for var_item in vardec_list:\n",
    "                ast.append(pd.Series(var_item).unique().tolist())\n",
    "        else:\n",
    "            ast.append(statement)\n",
    "    \n",
    "    if flag_open == True:\n",
    "        ast.append(['Compound'])\n",
    "        flag_open = False\n",
    "    \n",
    "    if '}' in leaf:\n",
    "        ast.append(['End'])\n"
   ]
  },
  {
   "cell_type": "code",
   "execution_count": 4,
   "metadata": {},
   "outputs": [
    {
     "data": {
      "text/plain": [
       "[['FuncDef', 'Decl', 'FuncDecl', 'int', 'main'],\n",
       " ['Compound'],\n",
       " ['int', 'x', '=', '2'],\n",
       " ['int', 'y', '=', '3'],\n",
       " ['int', 'z', '=', '4'],\n",
       " ['x', '=', 'x', '+', 'x'],\n",
       " ['printf', '%d', 'x'],\n",
       " ['return', '0'],\n",
       " ['End']]"
      ]
     },
     "execution_count": 4,
     "metadata": {},
     "output_type": "execute_result"
    }
   ],
   "source": [
    "ast"
   ]
  },
  {
   "cell_type": "code",
   "execution_count": null,
   "metadata": {},
   "outputs": [],
   "source": []
  }
 ],
 "metadata": {
  "kernelspec": {
   "display_name": "Python 3",
   "language": "python",
   "name": "python3"
  },
  "language_info": {
   "codemirror_mode": {
    "name": "ipython",
    "version": 3
   },
   "file_extension": ".py",
   "mimetype": "text/x-python",
   "name": "python",
   "nbconvert_exporter": "python",
   "pygments_lexer": "ipython3",
   "version": "3.6.9"
  }
 },
 "nbformat": 4,
 "nbformat_minor": 4
}
