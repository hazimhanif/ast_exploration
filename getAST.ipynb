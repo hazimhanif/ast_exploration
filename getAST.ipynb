{
 "cells": [
  {
   "cell_type": "markdown",
   "metadata": {},
   "source": [
    "# Get a Freaggin AST"
   ]
  },
  {
   "cell_type": "code",
   "execution_count": 21,
   "metadata": {},
   "outputs": [],
   "source": [
    "import pandas as pd\n",
    "import numpy as np\n",
    "import os"
   ]
  },
  {
   "cell_type": "code",
   "execution_count": 2,
   "metadata": {},
   "outputs": [],
   "source": [
    "def prepare(output):\n",
    "    linesList = output.line.value_counts().index.sort_values()[1:]\n",
    "    ast = [['TEMPORARY']]\n",
    "    flag_open = False\n",
    "    flag_close = False\n",
    "    for linenum in linesList:\n",
    "        statement = []\n",
    "        line = output[output.line==linenum]\n",
    "        leaf = line[line.type=='LEAF_NODE'].code.values\n",
    "\n",
    "        chk_var_dec = (line.type=='VAR_DECL').tolist()\n",
    "        if True in chk_var_dec:\n",
    "            vardec = np.where(chk_var_dec)[0]\n",
    "            for item in vardec:\n",
    "                statement = pd.Series(line.code.tolist()[item].split(' '))\n",
    "                statement = statement[statement!=';']\n",
    "                statement = statement[statement!='=']\n",
    "                if True in (line.type=='POINTER').tolist():\n",
    "                    statement = statement.tolist()\n",
    "                    statement.insert(0,'Pointer')\n",
    "                    statement.insert(0,'Decl')\n",
    "                else:\n",
    "                    statement = statement.tolist()\n",
    "                    statement.insert(0,'Decl')\n",
    "                ast.append(pd.Series(statement).unique().tolist())\n",
    "            continue\n",
    "\n",
    "        if linenum == linesList[0]:\n",
    "            statement.append('FuncDef')\n",
    "            statement.append('Decl')\n",
    "            statement.append('FuncDecl')\n",
    "\n",
    "        if '{' in leaf:\n",
    "            flag_open = True\n",
    "\n",
    "        leaf = leaf[leaf!='{']\n",
    "        leaf = leaf[leaf!=';']\n",
    "        leaf = leaf[leaf!='(']\n",
    "        leaf = leaf[leaf!=')']\n",
    "        leaf = leaf[leaf!=',']\n",
    "\n",
    "        for item in leaf:\n",
    "            item = 'Return' if item == 'return' else item\n",
    "            if item != item:\n",
    "                continue\n",
    "            else:\n",
    "                item\n",
    "            statement.append(item)\n",
    "\n",
    "\n",
    "        if len(statement)!=0:\n",
    "\n",
    "            if True in (line.type=='POINTER').tolist():\n",
    "                statement.insert(0,'Pointer')\n",
    "\n",
    "            if True in (line.type=='SELECTION').tolist():\n",
    "                statement.insert(0,'Condition')\n",
    "                statement.insert(0,'Selection')\n",
    "\n",
    "            if True in (line.type=='ITERATION').tolist():\n",
    "                statement.insert(0,'ForInit')\n",
    "                statement.insert(0,'Condition')\n",
    "                statement.insert(0,'ForExpr')            \n",
    "                statement.insert(0,'Iteration')\n",
    "\n",
    "            if True in (line.type=='FUNCTION_CALL').tolist():\n",
    "                statement.insert(0,'ExprList')\n",
    "                statement.insert(0,'FuncCall')\n",
    "                if statement == ast[-1]:\n",
    "                    continue\n",
    "\n",
    "                ast.append(statement)\n",
    "\n",
    "            else:\n",
    "                if statement == ast[-1]:\n",
    "                    continue\n",
    "                ast.append(statement)\n",
    "\n",
    "        if flag_open == True:\n",
    "            ast.append(['Compound'])\n",
    "            flag_open = False\n",
    "\n",
    "        if '}' in leaf:\n",
    "            del(ast[-1])\n",
    "            ast.append(['End'])\n",
    "\n",
    "    del(ast[0])\n",
    "    return(ast)"
   ]
  },
  {
   "cell_type": "code",
   "execution_count": 3,
   "metadata": {},
   "outputs": [],
   "source": [
    "## TRUE (Change directory)\n",
    "\n",
    "mydir = 'train/true'\n",
    "df_true = pd.DataFrame(columns=['id', 'code', 'label'])\n",
    "c_id = 0\n",
    "for file in os.listdir(mydir):\n",
    "    try:\n",
    "        mydf = pd.read_csv(mydir+'/'+file,sep='\\t',names=['type','line','level','code'], error_bad_lines = False,engine='python',warn_bad_lines=False)\n",
    "        df_true = df_true.append({'id': c_id, 'code': prepare(mydf), 'label': 1}, ignore_index=True)\n",
    "        c_id += 1\n",
    "    except:\n",
    "        print(file)\n",
    "        break"
   ]
  },
  {
   "cell_type": "code",
   "execution_count": null,
   "metadata": {},
   "outputs": [],
   "source": [
    "## FALSE (Change directory)\n",
    "\n",
    "mydir = 'train/false'\n",
    "df_false = pd.DataFrame(columns=['id', 'code', 'label'])\n",
    "for file in os.listdir(mydir):\n",
    "    mydf = pd.read_csv(mydir+'/'+file,sep='\\t',names=['type','line','level','code'], error_bad_lines = False,engine='python',warn_bad_lines=False)\n",
    "    df_false = df_false.append({'id': c_id, 'code': prepare(mydf), 'label': 0}, ignore_index=True)\n",
    "    c_id += 1"
   ]
  },
  {
   "cell_type": "code",
   "execution_count": 6,
   "metadata": {},
   "outputs": [],
   "source": [
    "## Combine (Change filename)\n",
    "\n",
    "all = pd.concat([df_true,df_false])\n",
    "all = all.sample(frac=1, random_state=666)\n",
    "all.to_pickle('train/train_name_block.pkl')"
   ]
  },
  {
   "cell_type": "code",
   "execution_count": 5,
   "metadata": {},
   "outputs": [
    {
     "data": {
      "text/html": [
       "<div>\n",
       "<style scoped>\n",
       "    .dataframe tbody tr th:only-of-type {\n",
       "        vertical-align: middle;\n",
       "    }\n",
       "\n",
       "    .dataframe tbody tr th {\n",
       "        vertical-align: top;\n",
       "    }\n",
       "\n",
       "    .dataframe thead th {\n",
       "        text-align: right;\n",
       "    }\n",
       "</style>\n",
       "<table border=\"1\" class=\"dataframe\">\n",
       "  <thead>\n",
       "    <tr style=\"text-align: right;\">\n",
       "      <th></th>\n",
       "      <th>id</th>\n",
       "      <th>code</th>\n",
       "      <th>label</th>\n",
       "    </tr>\n",
       "  </thead>\n",
       "  <tbody>\n",
       "    <tr>\n",
       "      <th>0</th>\n",
       "      <td>65904</td>\n",
       "      <td>[[Pointer, FuncDef, Decl, FuncDecl, array_prin...</td>\n",
       "      <td>0</td>\n",
       "    </tr>\n",
       "    <tr>\n",
       "      <th>1</th>\n",
       "      <td>65905</td>\n",
       "      <td>[[Decl, int, Int1], [Decl, int, L], [Decl, int...</td>\n",
       "      <td>0</td>\n",
       "    </tr>\n",
       "    <tr>\n",
       "      <th>2</th>\n",
       "      <td>65906</td>\n",
       "      <td>[[Pointer, FuncDef, Decl, FuncDecl, skip_space...</td>\n",
       "      <td>0</td>\n",
       "    </tr>\n",
       "    <tr>\n",
       "      <th>3</th>\n",
       "      <td>65907</td>\n",
       "      <td>[[Decl, const, long, t2, std, ::, time, (, 0, ...</td>\n",
       "      <td>0</td>\n",
       "    </tr>\n",
       "    <tr>\n",
       "      <th>4</th>\n",
       "      <td>65908</td>\n",
       "      <td>[[FuncDef, Decl, FuncDecl, getFrame], [Compoun...</td>\n",
       "      <td>0</td>\n",
       "    </tr>\n",
       "    <tr>\n",
       "      <th>...</th>\n",
       "      <td>...</td>\n",
       "      <td>...</td>\n",
       "      <td>...</td>\n",
       "    </tr>\n",
       "    <tr>\n",
       "      <th>507314</th>\n",
       "      <td>573218</td>\n",
       "      <td>[[FuncDef, Decl, FuncDecl, cyber_enable_magic_...</td>\n",
       "      <td>0</td>\n",
       "    </tr>\n",
       "    <tr>\n",
       "      <th>507315</th>\n",
       "      <td>573219</td>\n",
       "      <td>[]</td>\n",
       "      <td>0</td>\n",
       "    </tr>\n",
       "    <tr>\n",
       "      <th>507316</th>\n",
       "      <td>573220</td>\n",
       "      <td>[[Pointer, FuncDef, Decl, FuncDecl, try_enumer...</td>\n",
       "      <td>0</td>\n",
       "    </tr>\n",
       "    <tr>\n",
       "      <th>507317</th>\n",
       "      <td>573221</td>\n",
       "      <td>[[Pointer, FuncDef, Decl, FuncDecl, find_resto...</td>\n",
       "      <td>0</td>\n",
       "    </tr>\n",
       "    <tr>\n",
       "      <th>507318</th>\n",
       "      <td>573222</td>\n",
       "      <td>[[Pointer, FuncDef, Decl, FuncDecl, regex_list...</td>\n",
       "      <td>0</td>\n",
       "    </tr>\n",
       "  </tbody>\n",
       "</table>\n",
       "<p>507319 rows × 3 columns</p>\n",
       "</div>"
      ],
      "text/plain": [
       "            id                                               code label\n",
       "0        65904  [[Pointer, FuncDef, Decl, FuncDecl, array_prin...     0\n",
       "1        65905  [[Decl, int, Int1], [Decl, int, L], [Decl, int...     0\n",
       "2        65906  [[Pointer, FuncDef, Decl, FuncDecl, skip_space...     0\n",
       "3        65907  [[Decl, const, long, t2, std, ::, time, (, 0, ...     0\n",
       "4        65908  [[FuncDef, Decl, FuncDecl, getFrame], [Compoun...     0\n",
       "...        ...                                                ...   ...\n",
       "507314  573218  [[FuncDef, Decl, FuncDecl, cyber_enable_magic_...     0\n",
       "507315  573219                                                 []     0\n",
       "507316  573220  [[Pointer, FuncDef, Decl, FuncDecl, try_enumer...     0\n",
       "507317  573221  [[Pointer, FuncDef, Decl, FuncDecl, find_resto...     0\n",
       "507318  573222  [[Pointer, FuncDef, Decl, FuncDecl, regex_list...     0\n",
       "\n",
       "[507319 rows x 3 columns]"
      ]
     },
     "execution_count": 5,
     "metadata": {},
     "output_type": "execute_result"
    }
   ],
   "source": [
    "df_false"
   ]
  },
  {
   "cell_type": "code",
   "execution_count": 21,
   "metadata": {
    "collapsed": true,
    "jupyter": {
     "outputs_hidden": true
    }
   },
   "outputs": [
    {
     "data": {
      "text/plain": [
       "[['Pointer',\n",
       "  'FuncDef',\n",
       "  'Decl',\n",
       "  'FuncDecl',\n",
       "  'array_print',\n",
       "  'array',\n",
       "  '*',\n",
       "  'a',\n",
       "  'int',\n",
       "  'depth'],\n",
       " ['Compound'],\n",
       " ['Decl', 'size_t', 'i'],\n",
       " ['Decl', 'size_t', 'maxlen'],\n",
       " ['Decl', 'int', 'oneline', '1'],\n",
       " ['Selection', 'Condition', 'if', 'a', '->', 'used', '>', '5'],\n",
       " ['Compound'],\n",
       " ['oneline', '=', '0'],\n",
       " ['End'],\n",
       " ['Iteration',\n",
       "  'ForExpr',\n",
       "  'Condition',\n",
       "  'ForInit',\n",
       "  'for',\n",
       "  'i',\n",
       "  '=',\n",
       "  '0',\n",
       "  'i',\n",
       "  '<',\n",
       "  'a',\n",
       "  '->',\n",
       "  'used',\n",
       "  '&&',\n",
       "  'oneline',\n",
       "  'i',\n",
       "  '++'],\n",
       " ['Compound'],\n",
       " ['Decl',\n",
       "  'Pointer',\n",
       "  'data_unset',\n",
       "  '*',\n",
       "  'du',\n",
       "  'a',\n",
       "  '->',\n",
       "  'data',\n",
       "  '[',\n",
       "  'i',\n",
       "  ']'],\n",
       " ['Selection', 'Condition', 'if', '!', 'du', '->', 'is_index_key'],\n",
       " ['Compound'],\n",
       " ['oneline', '=', '0'],\n",
       " ['break'],\n",
       " ['End'],\n",
       " ['Selection', 'Condition', 'switch', 'du', '->', 'type'],\n",
       " ['Compound'],\n",
       " ['case', 'TYPE_INTEGER', ':'],\n",
       " ['case', 'TYPE_STRING', ':'],\n",
       " ['case', 'TYPE_COUNT', ':'],\n",
       " ['break'],\n",
       " ['default', ':'],\n",
       " ['oneline', '=', '0'],\n",
       " ['break'],\n",
       " ['End'],\n",
       " ['End'],\n",
       " ['Selection', 'Condition', 'if', 'oneline'],\n",
       " ['Compound'],\n",
       " ['FuncCall', 'ExprList', 'fprintf', 'stdout'],\n",
       " ['Iteration',\n",
       "  'ForExpr',\n",
       "  'Condition',\n",
       "  'ForInit',\n",
       "  'for',\n",
       "  'i',\n",
       "  '=',\n",
       "  '0',\n",
       "  'i',\n",
       "  '<',\n",
       "  'a',\n",
       "  '->',\n",
       "  'used',\n",
       "  'i',\n",
       "  '++'],\n",
       " ['Compound'],\n",
       " ['Decl',\n",
       "  'Pointer',\n",
       "  'data_unset',\n",
       "  '*',\n",
       "  'du',\n",
       "  'a',\n",
       "  '->',\n",
       "  'data',\n",
       "  '[',\n",
       "  'i',\n",
       "  ']'],\n",
       " ['Selection', 'Condition', 'if', 'i', '!=', '0'],\n",
       " ['Compound'],\n",
       " ['FuncCall', 'ExprList', 'fprintf', 'stdout', ', '],\n",
       " ['End'],\n",
       " ['FuncCall', 'ExprList', 'du', '->', 'print', 'du', 'depth', '+', '1'],\n",
       " ['End'],\n",
       " ['FuncCall', 'ExprList', 'fprintf', 'stdout'],\n",
       " ['Return', '0'],\n",
       " ['End'],\n",
       " ['FuncCall', 'ExprList', 'maxlen', '=', 'array_get_max_key_length', 'a'],\n",
       " ['FuncCall', 'ExprList', 'fprintf', 'stdout', '(\\\\n'],\n",
       " ['Iteration',\n",
       "  'ForExpr',\n",
       "  'Condition',\n",
       "  'ForInit',\n",
       "  'for',\n",
       "  'i',\n",
       "  '=',\n",
       "  '0',\n",
       "  'i',\n",
       "  '<',\n",
       "  'a',\n",
       "  '->',\n",
       "  'used',\n",
       "  'i',\n",
       "  '++'],\n",
       " ['Compound'],\n",
       " ['Decl',\n",
       "  'Pointer',\n",
       "  'data_unset',\n",
       "  '*',\n",
       "  'du',\n",
       "  'a',\n",
       "  '->',\n",
       "  'data',\n",
       "  '[',\n",
       "  'i',\n",
       "  ']'],\n",
       " ['FuncCall', 'ExprList', 'array_print_indent', 'depth', '+', '1'],\n",
       " ['Selection', 'Condition', 'if', '!', 'du', '->', 'is_index_key'],\n",
       " ['Compound'],\n",
       " ['Decl', 'int', 'j'],\n",
       " ['Selection', 'Condition', 'if', 'i', '&&', 'i', '%', '5', '==', '0'],\n",
       " ['Compound'],\n",
       " ['FuncCall', 'ExprList', 'fprintf', 'stdout', '# %zd\\\\n', 'i'],\n",
       " ['FuncCall', 'ExprList', 'array_print_indent', 'depth', '+', '1'],\n",
       " ['End'],\n",
       " ['FuncCall', 'ExprList', 'fprintf', 'stdout', 'du', '->', 'key', '->', 'ptr'],\n",
       " ['FuncCall',\n",
       "  'ExprList',\n",
       "  'Iteration',\n",
       "  'ForExpr',\n",
       "  'Condition',\n",
       "  'ForInit',\n",
       "  'for',\n",
       "  'j',\n",
       "  '=',\n",
       "  'maxlen',\n",
       "  '-',\n",
       "  'strlen',\n",
       "  'du',\n",
       "  '->',\n",
       "  'key',\n",
       "  '->',\n",
       "  'ptr',\n",
       "  'j',\n",
       "  '>',\n",
       "  '0',\n",
       "  'j',\n",
       "  '--'],\n",
       " ['Compound'],\n",
       " ['FuncCall', 'ExprList', 'fprintf', 'stdout', ' '],\n",
       " ['End'],\n",
       " ['FuncCall', 'ExprList', 'fprintf', 'stdout', ' => '],\n",
       " ['End'],\n",
       " ['FuncCall', 'ExprList', 'du', '->', 'print', 'du', 'depth', '+', '1'],\n",
       " ['FuncCall', 'ExprList', 'fprintf', 'stdout', ',\\\\n'],\n",
       " ['End'],\n",
       " ['Selection',\n",
       "  'Condition',\n",
       "  'if',\n",
       "  '!',\n",
       "  'i',\n",
       "  '&&',\n",
       "  'i',\n",
       "  '-',\n",
       "  '1',\n",
       "  '%',\n",
       "  '5',\n",
       "  '==',\n",
       "  '0'],\n",
       " ['Compound'],\n",
       " ['FuncCall', 'ExprList', 'array_print_indent', 'depth', '+', '1'],\n",
       " ['FuncCall', 'ExprList', 'fprintf', 'stdout', '# %zd\\\\n', 'i'],\n",
       " ['End'],\n",
       " ['FuncCall', 'ExprList', 'array_print_indent', 'depth'],\n",
       " ['FuncCall', 'ExprList', 'fprintf', 'stdout'],\n",
       " ['Return', '0'],\n",
       " ['End']]"
      ]
     },
     "execution_count": 21,
     "metadata": {},
     "output_type": "execute_result"
    }
   ],
   "source": [
    "df_false.code[0]"
   ]
  },
  {
   "cell_type": "markdown",
   "metadata": {},
   "source": [
    "### Prepare for Word2Vec"
   ]
  },
  {
   "cell_type": "code",
   "execution_count": 87,
   "metadata": {},
   "outputs": [],
   "source": [
    "## Load train data\n",
    "del(train)\n",
    "train = pd.read_pickle('train/train_name_block.pkl')\n",
    "train = train.reset_index()"
   ]
  },
  {
   "cell_type": "code",
   "execution_count": 42,
   "metadata": {},
   "outputs": [],
   "source": [
    "def flatten(x):\n",
    "    return(list(chain.from_iterable(x)))"
   ]
  },
  {
   "cell_type": "code",
   "execution_count": 44,
   "metadata": {},
   "outputs": [],
   "source": [
    "from itertools import chain\n",
    "corpus = train.code.apply(flatten)"
   ]
  },
  {
   "cell_type": "markdown",
   "metadata": {},
   "source": [
    "### Train Word2Vec"
   ]
  },
  {
   "cell_type": "code",
   "execution_count": null,
   "metadata": {},
   "outputs": [],
   "source": [
    "from gensim.models.word2vec import Word2Vec\n",
    "w2v = Word2Vec(corpus, size=128, workers=16, sg=1, min_count=3)"
   ]
  },
  {
   "cell_type": "code",
   "execution_count": 53,
   "metadata": {},
   "outputs": [],
   "source": [
    "w2v.save('train/node_w2v_128')"
   ]
  },
  {
   "cell_type": "markdown",
   "metadata": {},
   "source": [
    "### Load Word2Vec"
   ]
  },
  {
   "cell_type": "code",
   "execution_count": 5,
   "metadata": {},
   "outputs": [],
   "source": [
    "from gensim.models.word2vec import Word2Vec\n",
    "\n",
    "w2v = Word2Vec.load('train/node_w2v_128')"
   ]
  },
  {
   "cell_type": "code",
   "execution_count": 70,
   "metadata": {},
   "outputs": [],
   "source": [
    "import copy\n",
    "code = copy.deepcopy(train.code[1])"
   ]
  },
  {
   "cell_type": "code",
   "execution_count": 6,
   "metadata": {},
   "outputs": [],
   "source": [
    "global statement_line\n",
    "statement_line = -2\n",
    "def replace(node,i):\n",
    "    global statement_line\n",
    "    if type(node) == str:\n",
    "        code[statement_line][i] = [w2v.wv.vocab.get(node).index] if node in w2v.wv.vocab else [w2v.wv.vectors.shape[0]-1]\n",
    "\n",
    "    else:\n",
    "        statement_line+=1\n",
    "\n",
    "        for ind in range(len(node)):\n",
    "            replace(node[ind],ind)"
   ]
  },
  {
   "cell_type": "code",
   "execution_count": 72,
   "metadata": {},
   "outputs": [
    {
     "data": {
      "text/plain": [
       "11"
      ]
     },
     "execution_count": 72,
     "metadata": {},
     "output_type": "execute_result"
    }
   ],
   "source": [
    "w2v.wv.vocab.get('Pointer').index"
   ]
  },
  {
   "cell_type": "code",
   "execution_count": 73,
   "metadata": {},
   "outputs": [
    {
     "data": {
      "text/plain": [
       "867572"
      ]
     },
     "execution_count": 73,
     "metadata": {},
     "output_type": "execute_result"
    }
   ],
   "source": [
    "w2v.wv.vectors.shape[0]"
   ]
  },
  {
   "cell_type": "code",
   "execution_count": 74,
   "metadata": {},
   "outputs": [
    {
     "data": {
      "text/plain": [
       "'GMT_get_map_interval'"
      ]
     },
     "execution_count": 74,
     "metadata": {},
     "output_type": "execute_result"
    }
   ],
   "source": [
    "w2v.wv.index2word[867571]"
   ]
  },
  {
   "cell_type": "code",
   "execution_count": null,
   "metadata": {},
   "outputs": [],
   "source": [
    "replace(code,0)\n",
    "code"
   ]
  },
  {
   "cell_type": "markdown",
   "metadata": {},
   "source": [
    "### Replace Word with Index from Word2Vec"
   ]
  },
  {
   "cell_type": "code",
   "execution_count": null,
   "metadata": {},
   "outputs": [],
   "source": [
    "train.code[0:5].apply(replace,args=(0,))"
   ]
  },
  {
   "cell_type": "code",
   "execution_count": 88,
   "metadata": {},
   "outputs": [],
   "source": [
    "for code in train.code:\n",
    "    statement_line = -2\n",
    "    replace(code,0)"
   ]
  },
  {
   "cell_type": "code",
   "execution_count": 94,
   "metadata": {},
   "outputs": [],
   "source": [
    "train.to_pickle('blocks_train.pkl')"
   ]
  },
  {
   "cell_type": "code",
   "execution_count": 90,
   "metadata": {},
   "outputs": [],
   "source": [
    "del(code)\n",
    "test = pd.read_pickle('train/test_name_block.pkl')\n",
    "test = test.reset_index()\n",
    "\n",
    "for code in test.code:\n",
    "    statement_line = -2\n",
    "    replace(code,0)"
   ]
  },
  {
   "cell_type": "code",
   "execution_count": 95,
   "metadata": {},
   "outputs": [],
   "source": [
    "test.to_pickle('blocks_test.pkl')"
   ]
  },
  {
   "cell_type": "code",
   "execution_count": 7,
   "metadata": {},
   "outputs": [],
   "source": [
    "val = pd.read_pickle('train/val_name_block.pkl')\n",
    "val = val.reset_index()\n",
    "\n",
    "for code in val.code:\n",
    "    statement_line = -2\n",
    "    replace(code,0)"
   ]
  },
  {
   "cell_type": "code",
   "execution_count": 96,
   "metadata": {},
   "outputs": [],
   "source": [
    "val.to_pickle('blocks_val.pkl')"
   ]
  },
  {
   "cell_type": "markdown",
   "metadata": {},
   "source": [
    "### DO SOME SHIT"
   ]
  },
  {
   "cell_type": "code",
   "execution_count": 1,
   "metadata": {},
   "outputs": [],
   "source": [
    "import pandas as pd"
   ]
  },
  {
   "cell_type": "code",
   "execution_count": 39,
   "metadata": {},
   "outputs": [],
   "source": [
    "val = pd.read_pickle('blocks_val.pkl')"
   ]
  },
  {
   "cell_type": "code",
   "execution_count": 46,
   "metadata": {},
   "outputs": [
    {
     "data": {
      "text/html": [
       "<div>\n",
       "<style scoped>\n",
       "    .dataframe tbody tr th:only-of-type {\n",
       "        vertical-align: middle;\n",
       "    }\n",
       "\n",
       "    .dataframe tbody tr th {\n",
       "        vertical-align: top;\n",
       "    }\n",
       "\n",
       "    .dataframe thead th {\n",
       "        text-align: right;\n",
       "    }\n",
       "</style>\n",
       "<table border=\"1\" class=\"dataframe\">\n",
       "  <thead>\n",
       "    <tr style=\"text-align: right;\">\n",
       "      <th></th>\n",
       "      <th>index</th>\n",
       "      <th>id</th>\n",
       "      <th>code</th>\n",
       "      <th>label</th>\n",
       "    </tr>\n",
       "  </thead>\n",
       "  <tbody>\n",
       "    <tr>\n",
       "      <th>0</th>\n",
       "      <td>97858</td>\n",
       "      <td>106112</td>\n",
       "      <td>[[21, 4, 22, 784073, 19, 1486, 19, 13479], [9]...</td>\n",
       "      <td>0</td>\n",
       "    </tr>\n",
       "    <tr>\n",
       "      <th>1</th>\n",
       "      <td>4303</td>\n",
       "      <td>4303</td>\n",
       "      <td>[[11, 21, 4, 22, 867571, 26, 10650, 5, 62], [1...</td>\n",
       "      <td>1</td>\n",
       "    </tr>\n",
       "    <tr>\n",
       "      <th>2</th>\n",
       "      <td>101958</td>\n",
       "      <td>110212</td>\n",
       "      <td>[[11, 21, 4, 22, 867571, 35, 2062, 17, 785], [...</td>\n",
       "      <td>0</td>\n",
       "    </tr>\n",
       "    <tr>\n",
       "      <th>3</th>\n",
       "      <td>85037</td>\n",
       "      <td>93291</td>\n",
       "      <td>[[11, 21, 4, 22, 867571, 26, 56524, 5, 6351, 2...</td>\n",
       "      <td>0</td>\n",
       "    </tr>\n",
       "    <tr>\n",
       "      <th>4</th>\n",
       "      <td>30900</td>\n",
       "      <td>39154</td>\n",
       "      <td>[[11, 21, 4, 22, 867571, 13378, 5, 2179, 39610...</td>\n",
       "      <td>0</td>\n",
       "    </tr>\n",
       "    <tr>\n",
       "      <th>...</th>\n",
       "      <td>...</td>\n",
       "      <td>...</td>\n",
       "      <td>...</td>\n",
       "      <td>...</td>\n",
       "    </tr>\n",
       "    <tr>\n",
       "      <th>127471</th>\n",
       "      <td>2878</td>\n",
       "      <td>2878</td>\n",
       "      <td>[[11, 21, 4, 22, 867571, 27, 5, 5, 54, 19, 581...</td>\n",
       "      <td>1</td>\n",
       "    </tr>\n",
       "    <tr>\n",
       "      <th>127472</th>\n",
       "      <td>116576</td>\n",
       "      <td>124830</td>\n",
       "      <td>[[11, 21, 4, 22, 307253, 90684, 5, 25658], [9]...</td>\n",
       "      <td>0</td>\n",
       "    </tr>\n",
       "    <tr>\n",
       "      <th>127473</th>\n",
       "      <td>32111</td>\n",
       "      <td>40365</td>\n",
       "      <td>[[11, 21, 4, 22, 867571, 26, 239236, 5, 51256,...</td>\n",
       "      <td>0</td>\n",
       "    </tr>\n",
       "    <tr>\n",
       "      <th>127474</th>\n",
       "      <td>67396</td>\n",
       "      <td>75650</td>\n",
       "      <td>[[11, 21, 4, 22, 867571, 1640, 5, 295], [9], [...</td>\n",
       "      <td>0</td>\n",
       "    </tr>\n",
       "    <tr>\n",
       "      <th>127475</th>\n",
       "      <td>112814</td>\n",
       "      <td>121068</td>\n",
       "      <td>[[11, 21, 4, 22, 510639, 35, 27, 5, 45, 19, 65...</td>\n",
       "      <td>0</td>\n",
       "    </tr>\n",
       "  </tbody>\n",
       "</table>\n",
       "<p>127476 rows × 4 columns</p>\n",
       "</div>"
      ],
      "text/plain": [
       "         index      id                                               code  \\\n",
       "0        97858  106112  [[21, 4, 22, 784073, 19, 1486, 19, 13479], [9]...   \n",
       "1         4303    4303  [[11, 21, 4, 22, 867571, 26, 10650, 5, 62], [1...   \n",
       "2       101958  110212  [[11, 21, 4, 22, 867571, 35, 2062, 17, 785], [...   \n",
       "3        85037   93291  [[11, 21, 4, 22, 867571, 26, 56524, 5, 6351, 2...   \n",
       "4        30900   39154  [[11, 21, 4, 22, 867571, 13378, 5, 2179, 39610...   \n",
       "...        ...     ...                                                ...   \n",
       "127471    2878    2878  [[11, 21, 4, 22, 867571, 27, 5, 5, 54, 19, 581...   \n",
       "127472  116576  124830  [[11, 21, 4, 22, 307253, 90684, 5, 25658], [9]...   \n",
       "127473   32111   40365  [[11, 21, 4, 22, 867571, 26, 239236, 5, 51256,...   \n",
       "127474   67396   75650  [[11, 21, 4, 22, 867571, 1640, 5, 295], [9], [...   \n",
       "127475  112814  121068  [[11, 21, 4, 22, 510639, 35, 27, 5, 45, 19, 65...   \n",
       "\n",
       "       label  \n",
       "0          0  \n",
       "1          1  \n",
       "2          0  \n",
       "3          0  \n",
       "4          0  \n",
       "...      ...  \n",
       "127471     1  \n",
       "127472     0  \n",
       "127473     0  \n",
       "127474     0  \n",
       "127475     0  \n",
       "\n",
       "[127476 rows x 4 columns]"
      ]
     },
     "execution_count": 46,
     "metadata": {},
     "output_type": "execute_result"
    }
   ],
   "source": [
    "val.sample"
   ]
  },
  {
   "cell_type": "code",
   "execution_count": 30,
   "metadata": {},
   "outputs": [
    {
     "data": {
      "text/plain": [
       "[[[21], [4], [22], [784073], [19], [1486], [19], [13479]],\n",
       " [[9]],\n",
       " [[8], [6], [10], [13479]],\n",
       " [[9]],\n",
       " [[1], [0], [55602], [1486]],\n",
       " [[7]],\n",
       " [[8], [6], [34]],\n",
       " [[9]],\n",
       " [[1], [0], [867571], [1486], [78], [867571], [25]],\n",
       " [[867571]],\n",
       " [[7]],\n",
       " [[7]]]"
      ]
     },
     "execution_count": 30,
     "metadata": {},
     "output_type": "execute_result"
    }
   ],
   "source": [
    "val.code[0]"
   ]
  },
  {
   "cell_type": "code",
   "execution_count": 28,
   "metadata": {},
   "outputs": [
    {
     "data": {
      "text/plain": [
       "torch.Size([2, 1])"
      ]
     },
     "execution_count": 28,
     "metadata": {},
     "output_type": "execute_result"
    }
   ],
   "source": [
    "import torch\n",
    "t = torch.Tensor([[1], [6]])\n",
    "t.shape"
   ]
  },
  {
   "cell_type": "code",
   "execution_count": 29,
   "metadata": {},
   "outputs": [
    {
     "data": {
      "text/plain": [
       "torch.Size([2])"
      ]
     },
     "execution_count": 29,
     "metadata": {},
     "output_type": "execute_result"
    }
   ],
   "source": [
    "k = torch.Tensor([1,2])\n",
    "k.shape"
   ]
  },
  {
   "cell_type": "code",
   "execution_count": 31,
   "metadata": {},
   "outputs": [],
   "source": [
    "k=[1,32]"
   ]
  },
  {
   "cell_type": "code",
   "execution_count": 37,
   "metadata": {},
   "outputs": [
    {
     "ename": "TypeError",
     "evalue": "'int' object is not subscriptable",
     "output_type": "error",
     "traceback": [
      "\u001b[0;31m---------------------------------------------------------------------------\u001b[0m",
      "\u001b[0;31mTypeError\u001b[0m                                 Traceback (most recent call last)",
      "\u001b[0;32m<ipython-input-37-cddfe23d80b1>\u001b[0m in \u001b[0;36m<module>\u001b[0;34m\u001b[0m\n\u001b[0;32m----> 1\u001b[0;31m \u001b[0mlen\u001b[0m\u001b[0;34m(\u001b[0m\u001b[0mk\u001b[0m\u001b[0;34m[\u001b[0m\u001b[0;36m0\u001b[0m\u001b[0;34m]\u001b[0m\u001b[0;34m[\u001b[0m\u001b[0;36m0\u001b[0m\u001b[0;34m]\u001b[0m\u001b[0;34m)\u001b[0m\u001b[0;34m\u001b[0m\u001b[0;34m\u001b[0m\u001b[0m\n\u001b[0m",
      "\u001b[0;31mTypeError\u001b[0m: 'int' object is not subscriptable"
     ]
    }
   ],
   "source": [
    "len(k[0][0])"
   ]
  },
  {
   "cell_type": "code",
   "execution_count": 38,
   "metadata": {},
   "outputs": [
    {
     "ename": "TypeError",
     "evalue": "'int' object is not subscriptable",
     "output_type": "error",
     "traceback": [
      "\u001b[0;31m---------------------------------------------------------------------------\u001b[0m",
      "\u001b[0;31mTypeError\u001b[0m                                 Traceback (most recent call last)",
      "\u001b[0;32m<ipython-input-38-524619961cbd>\u001b[0m in \u001b[0;36m<module>\u001b[0;34m\u001b[0m\n\u001b[0;32m----> 1\u001b[0;31m \u001b[0mk\u001b[0m\u001b[0;34m[\u001b[0m\u001b[0;36m0\u001b[0m\u001b[0;34m]\u001b[0m\u001b[0;34m[\u001b[0m\u001b[0;36m0\u001b[0m\u001b[0;34m]\u001b[0m \u001b[0;32mis\u001b[0m \u001b[0;34m-\u001b[0m\u001b[0;36m1\u001b[0m\u001b[0;34m\u001b[0m\u001b[0;34m\u001b[0m\u001b[0m\n\u001b[0m",
      "\u001b[0;31mTypeError\u001b[0m: 'int' object is not subscriptable"
     ]
    }
   ],
   "source": [
    "k[0][0] is -1"
   ]
  },
  {
   "cell_type": "code",
   "execution_count": 77,
   "metadata": {},
   "outputs": [],
   "source": [
    "import pycparser\n",
    "import pandas as pd\n",
    "from prepare_data import get_blocks as func\n",
    "\n",
    "def tree_to_index(node):\n",
    "    token = node.token\n",
    "    result = [token]\n",
    "    children = node.children\n",
    "    for child in children:\n",
    "        result.append(tree_to_index(child))\n",
    "    return result\n",
    "\n",
    "def trans2seq(r):\n",
    "    blocks = []\n",
    "    func(r, blocks)\n",
    "    tree = []\n",
    "    for b in blocks:\n",
    "        btree = tree_to_index(b)\n",
    "        tree.append(btree)\n",
    "    return tree"
   ]
  },
  {
   "cell_type": "code",
   "execution_count": 78,
   "metadata": {},
   "outputs": [],
   "source": [
    "ast = pycparser.parse_file('myCS/input/test2.c')"
   ]
  },
  {
   "cell_type": "code",
   "execution_count": 79,
   "metadata": {},
   "outputs": [
    {
     "data": {
      "text/plain": [
       "[['FuncDef', ['Decl', ['FuncDecl', ['main', ['int']]]]],\n",
       " ['Compound'],\n",
       " ['Decl', ['x', ['int']], ['22']],\n",
       " ['Decl', ['y', ['int']], ['44']],\n",
       " ['If', ['==', ['x'], ['23']]],\n",
       " ['Compound'],\n",
       " ['=', ['x'], ['2']],\n",
       " ['End'],\n",
       " ['Compound'],\n",
       " ['=', ['y'], ['314']],\n",
       " ['End'],\n",
       " ['While', ['<', ['x'], ['21']]],\n",
       " ['Compound'],\n",
       " ['FuncCall', ['printf'], ['ExprList', ['\"value of x: %d\\\\n\"'], ['x']]],\n",
       " ['++', ['x']],\n",
       " ['End'],\n",
       " ['=', ['x'], ['+', ['x'], ['x']]],\n",
       " ['FuncCall', ['printf'], ['ExprList', ['\"%d\"'], ['x']]],\n",
       " ['Return', ['0']],\n",
       " ['End']]"
      ]
     },
     "execution_count": 79,
     "metadata": {},
     "output_type": "execute_result"
    }
   ],
   "source": [
    "trans2seq(ast)"
   ]
  },
  {
   "cell_type": "code",
   "execution_count": 3,
   "metadata": {},
   "outputs": [],
   "source": [
    "stmt = ['=', 'x', '2', 'z', 'y', 'p','m','n','k', 'q','out', 'a','c','d','f']\n",
    "lvl  = [10, 11, 11, 11, 12, 12, 12, 12,12,12,12, 13, 13, 13, 14]"
   ]
  },
  {
   "cell_type": "markdown",
   "metadata": {},
   "source": [
    "### In manual "
   ]
  },
  {
   "cell_type": "code",
   "execution_count": 4,
   "metadata": {},
   "outputs": [
    {
     "data": {
      "text/plain": [
       "['=', ['x', ['y', ['n']], ['p']], ['2', ['m']], ['z']]"
      ]
     },
     "execution_count": 4,
     "metadata": {},
     "output_type": "execute_result"
    }
   ],
   "source": [
    "out = []\n",
    "\n",
    "# level 0\n",
    "out.append(stmt[0])\n",
    "\n",
    "# level 1\n",
    "out.append([stmt[1]])\n",
    "out.append([stmt[2]])\n",
    "out.append([stmt[3]])\n",
    "\n",
    "# level 2\n",
    "out[1].append([stmt[4]])\n",
    "out[1].append([stmt[5]])\n",
    "out[2].append([stmt[6]])\n",
    "\n",
    "# level 3\n",
    "out[1][1].append([stmt[7]])\n",
    "\n",
    "out"
   ]
  },
  {
   "cell_type": "markdown",
   "metadata": {},
   "source": [
    "### In auto"
   ]
  },
  {
   "cell_type": "code",
   "execution_count": 5,
   "metadata": {},
   "outputs": [
    {
     "data": {
      "text/plain": [
       "['=',\n",
       " ['x', ['y', ['a', ['f']], ['c']], ['p', ['d']], ['out']],\n",
       " ['2', ['m'], ['n']],\n",
       " ['z', ['k'], ['q']]]"
      ]
     },
     "execution_count": 5,
     "metadata": {},
     "output_type": "execute_result"
    }
   ],
   "source": [
    "out = [[]]\n",
    "count_level = -1\n",
    "curr = []\n",
    "full = True\n",
    "\n",
    "for i in range(0,len(lvl)):\n",
    "    \n",
    "    if i == 0:\n",
    "        # level 0\n",
    "        out[0].append(stmt[0])\n",
    "    else:\n",
    "        if lvl[i]!=lvl[i-1]:\n",
    "            count_level +=1\n",
    "            curr = get_shit(count_level)\n",
    "            \n",
    "            if count_level ==0:\n",
    "                curr.append([stmt[i]])\n",
    "            else:\n",
    "                curr[0].append([stmt[i]])\n",
    "                \n",
    "        else:\n",
    "            if count_level ==0:\n",
    "                curr.append([stmt[i]])\n",
    "            else:\n",
    "                full = True\n",
    "                for j in range(0,len(curr)):\n",
    "                    if len(curr[j])<3:\n",
    "                        curr[j].append([stmt[i]])\n",
    "                        full = False\n",
    "                        break\n",
    "                        \n",
    "                if full == True:\n",
    "                    for j in range(0,len(curr)):\n",
    "                        if len(curr[j])<4:\n",
    "                            curr[j].append([stmt[i]])\n",
    "                            break\n",
    "out[0]"
   ]
  },
  {
   "cell_type": "code",
   "execution_count": 6,
   "metadata": {},
   "outputs": [],
   "source": [
    "### return list of that \n",
    "\n",
    "def get_shit(count_level):\n",
    "    \n",
    "    if count_level == 0:\n",
    "        return(out[0])\n",
    "    \n",
    "    if count_level == 1:\n",
    "        return(out[0][1:])\n",
    "    \n",
    "    if count_level == 2:\n",
    "        temp = []\n",
    "        for ls1 in out[0][1:]:\n",
    "            for ls2 in ls1[1:]:\n",
    "                temp.append(ls2)\n",
    "        return(temp)\n",
    "        \n",
    "    \n",
    "    if count_level == 3:\n",
    "        temp = []\n",
    "        for ls1 in out[0][1:]:\n",
    "            for ls2 in ls1[1:]:\n",
    "                for ls3 in ls2[1:]:\n",
    "                    temp.append(ls3)\n",
    "        return(temp)\n",
    "    \n",
    "    if count_level == 4:\n",
    "        temp = []\n",
    "        for ls1 in out[0][1:]:\n",
    "            for ls2 in ls1[1:]:\n",
    "                for ls3 in ls2[1:]:\n",
    "                    for ls4 in ls3[1:]:\n",
    "                        temp.append(ls4)\n",
    "        return(temp)\n",
    "    \n",
    "    if count_level == 5:\n",
    "        temp = []\n",
    "        for ls1 in out[0][1:]:\n",
    "            for ls2 in ls1[1:]:\n",
    "                for ls3 in ls2[1:]:\n",
    "                    for ls4 in ls3[1:]:\n",
    "                        for ls5 in ls4[1:]:\n",
    "                            temp.append(ls5)\n",
    "        return(temp)\n",
    "    \n",
    "    if count_level == 6:\n",
    "        temp = []\n",
    "        for ls1 in out[0][1:]:\n",
    "            for ls2 in ls1[1:]:\n",
    "                for ls3 in ls2[1:]:\n",
    "                    for ls4 in ls3[1:]:\n",
    "                        for ls5 in ls4[1:]:\n",
    "                            for ls6 in ls5[1:]:\n",
    "                                temp.append(ls6)\n",
    "        return(temp)\n",
    "    \n",
    "    if count_level == 7:\n",
    "        temp = []\n",
    "        for ls1 in out[0][1:]:\n",
    "            for ls2 in ls1[1:]:\n",
    "                for ls3 in ls2[1:]:\n",
    "                    for ls4 in ls3[1:]:\n",
    "                        for ls5 in ls4[1:]:\n",
    "                            for ls6 in ls5[1:]:\n",
    "                                for ls7 in ls6[1:]:\n",
    "                                    temp.append(ls7)\n",
    "        return(temp)\n",
    "    \n",
    "    if count_level == 8:\n",
    "        temp = []\n",
    "        for ls1 in out[0][1:]:\n",
    "            for ls2 in ls1[1:]:\n",
    "                for ls3 in ls2[1:]:\n",
    "                    for ls4 in ls3[1:]:\n",
    "                        for ls5 in ls4[1:]:\n",
    "                            for ls6 in ls5[1:]:\n",
    "                                for ls7 in ls6[1:]:\n",
    "                                    for ls8 in ls7[1:]:\n",
    "                                        temp.append(ls8)\n",
    "        return(temp)\n",
    "    \n",
    "    if count_level == 9:\n",
    "        temp = []\n",
    "        for ls1 in out[0][1:]:\n",
    "            for ls2 in ls1[1:]:\n",
    "                for ls3 in ls2[1:]:\n",
    "                    for ls4 in ls3[1:]:\n",
    "                        for ls5 in ls4[1:]:\n",
    "                            for ls6 in ls5[1:]:\n",
    "                                for ls7 in ls6[1:]:\n",
    "                                    for ls8 in ls7[1:]:\n",
    "                                        for ls9 in ls8[1:]:\n",
    "                                            temp.append(ls9)\n",
    "        return(temp)\n",
    "    \n",
    "    if count_level == 10:\n",
    "        temp = []\n",
    "        for ls1 in out[0][1:]:\n",
    "            for ls2 in ls1[1:]:\n",
    "                for ls3 in ls2[1:]:\n",
    "                    for ls4 in ls3[1:]:\n",
    "                        for ls5 in ls4[1:]:\n",
    "                            for ls6 in ls5[1:]:\n",
    "                                for ls7 in ls6[1:]:\n",
    "                                    for ls8 in ls7[1:]:\n",
    "                                        for ls9 in ls8[1:]:\n",
    "                                            for ls10 in ls9[1:]:\n",
    "                                                temp.append(ls10)\n",
    "        return(temp)\n",
    "    "
   ]
  },
  {
   "cell_type": "code",
   "execution_count": 25,
   "metadata": {},
   "outputs": [
    {
     "data": {
      "text/plain": [
       "array([10, 11, 12, 13])"
      ]
     },
     "execution_count": 25,
     "metadata": {},
     "output_type": "execute_result"
    }
   ],
   "source": [
    "tree_lvl = pd.Series(lvl).unique()\n",
    "tree_lvl "
   ]
  },
  {
   "cell_type": "code",
   "execution_count": 95,
   "metadata": {},
   "outputs": [],
   "source": [
    "k = '[\\'x\\', \\'int\\', \\'=\\', \\'x\\', \\'22\\']'\n"
   ]
  },
  {
   "cell_type": "code",
   "execution_count": 96,
   "metadata": {},
   "outputs": [
    {
     "data": {
      "text/plain": [
       "['x', 'int', '=', 'x', '22']"
      ]
     },
     "execution_count": 96,
     "metadata": {},
     "output_type": "execute_result"
    }
   ],
   "source": [
    "import ast\n",
    "ast.literal_eval(k)"
   ]
  },
  {
   "cell_type": "code",
   "execution_count": 122,
   "metadata": {},
   "outputs": [
    {
     "data": {
      "text/plain": [
       "(array([0, 1, 2, 3, 4, 5, 6, 7]),)"
      ]
     },
     "execution_count": 122,
     "metadata": {},
     "output_type": "execute_result"
    }
   ],
   "source": [
    "np.where(lvl)"
   ]
  },
  {
   "cell_type": "code",
   "execution_count": null,
   "metadata": {},
   "outputs": [],
   "source": [
    "ast"
   ]
  }
 ],
 "metadata": {
  "kernelspec": {
   "display_name": "Python 3",
   "language": "python",
   "name": "python3"
  },
  "language_info": {
   "codemirror_mode": {
    "name": "ipython",
    "version": 3
   },
   "file_extension": ".py",
   "mimetype": "text/x-python",
   "name": "python",
   "nbconvert_exporter": "python",
   "pygments_lexer": "ipython3",
   "version": "3.7.5"
  }
 },
 "nbformat": 4,
 "nbformat_minor": 4
}
